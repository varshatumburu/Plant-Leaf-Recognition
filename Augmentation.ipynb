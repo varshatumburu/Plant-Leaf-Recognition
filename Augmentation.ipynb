{
 "cells": [
  {
   "cell_type": "code",
   "execution_count": null,
   "metadata": {},
   "outputs": [],
   "source": [
    "import Augmentor\n",
    "import numpy as np\n",
    "import os\n",
    "import glob\n",
    "import random\n",
    "import collections\n",
    "from PIL import Image\n",
    "import keras\n",
    "from keras.models import Sequential\n",
    "from keras.layers import Dense, Dropout, Flatten\n",
    "from keras.layers import Conv2D, MaxPooling2D\n",
    "import matplotlib.pyplot as plt"
   ]
  },
  {
   "cell_type": "code",
   "execution_count": null,
   "metadata": {},
   "outputs": [],
   "source": [
    "root_directory = \"D:/data/*\"\n",
    "\n",
    "folders = []\n",
    "for f in glob.glob(root_directory):\n",
    "    if os.path.isdir(f):\n",
    "        folders.append(os.path.abspath(f))\n",
    "\n",
    "print(\"Folders (classes) found: %s \" % [os.path.split(x)[1] for x in folders])"
   ]
  },
  {
   "cell_type": "code",
   "execution_count": null,
   "metadata": {},
   "outputs": [],
   "source": [
    "pipelines = {}\n",
    "for folder in folders:\n",
    "    print(\"Folder %s:\" % (folder))\n",
    "    pipelines[os.path.split(folder)[1]] = (Augmentor.Pipeline(folder))\n",
    "    print(\"\\n----------------------------\\n\")\n",
    "\n",
    "for p in pipelines.values():\n",
    "    print(\"Class %s has %s samples.\" % (p.augmentor_images[0].class_label, len(p.augmentor_images)))\n",
    "    \n",
    "pipelines "
   ]
  },
  {
   "cell_type": "code",
   "execution_count": null,
   "metadata": {
    "scrolled": true
   },
   "outputs": [],
   "source": [
    "for pipeline in pipelines.values():\n",
    "    pipeline.rotate(probability=0.75, max_left_rotation=10, max_right_rotation=10)\n",
    "    pipeline.flip_left_right(probability=0.8)\n",
    "    pipeline.skew(probability=0.4)\n",
    "    pipeline.random_distortion(probability=0.5, grid_width=3, grid_height=7,magnitude=2)\n",
    "    pipeline.crop_centre(probability=0.1,percentage_area=0.8)\n",
    "    pipeline.sample(333)\n",
    "\n",
    "integer_labels = {\n",
    "    'leaf01': 0,\n",
    "    'leaf02': 1,\n",
    "    'leaf03': 2,\n",
    "    'leaf04': 3,\n",
    "    'leaf05': 4,\n",
    "    'leaf06': 5,\n",
    "    'leaf07': 6,\n",
    "    'leaf08': 7,\n",
    "    'leaf09': 8,\n",
    "    'leaf10': 9,\n",
    "    'leaf11': 10,\n",
    "    'leaf12': 11,\n",
    "    'leaf13': 12,\n",
    "    'leaf14': 13,\n",
    "    'leaf15': 14\n",
    "}\n",
    "\n",
    "PipelineContainer = collections.namedtuple(\n",
    "    'PipelineContainer',\n",
    "    'label label_integer label_categorical pipeline generator'\n",
    ")\n",
    "\n",
    "pipeline_containers = []\n",
    "\n",
    "for label, pipeline in pipelines.items():\n",
    "    label_categorical = np.zeros(len(pipelines), dtype=np.int)\n",
    "    label_categorical[integer_labels[label]] = 1\n",
    "    pipeline_containers.append(\n",
    "        PipelineContainer(\n",
    "            label,\n",
    "            integer_labels[label],\n",
    "            label_categorical,\n",
    "            pipeline,\n",
    "            pipeline.keras_generator(batch_size=1)\n",
    "        )\n",
    "    )\n",
    "\n",
    "\n",
    "\n",
    "def multi_generator(pipeline_containers, batch_size):\n",
    "    X = []\n",
    "    y = []\n",
    "    for i in range(batch_size):\n",
    "        pipeline_container = random.choice(pipeline_containers)\n",
    "        image, _ = next(pipeline_container.generator)\n",
    "        image = image.reshape((224,224,3)) # Or (1, 28, 28) for channels_first, see Keras' docs.\n",
    "        X.append(image)\n",
    "        y.append(pipeline_container.label_categorical) # Or label_integer if required by network\n",
    "        X = np.asarray(X)\n",
    "        y = np.asarray(y)\n",
    "    yield X, y\n",
    "            \n",
    "multi_generator(pipeline_containers,1)"
   ]
  }
 ],
 "metadata": {
  "kernelspec": {
   "display_name": "Python 3",
   "language": "python",
   "name": "python3"
  },
  "language_info": {
   "codemirror_mode": {
    "name": "ipython",
    "version": 3
   },
   "file_extension": ".py",
   "mimetype": "text/x-python",
   "name": "python",
   "nbconvert_exporter": "python",
   "pygments_lexer": "ipython3",
   "version": "3.8.5"
  }
 },
 "nbformat": 4,
 "nbformat_minor": 4
}